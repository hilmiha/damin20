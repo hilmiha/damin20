{
  "nbformat": 4,
  "nbformat_minor": 0,
  "metadata": {
    "colab": {
      "name": "AgglomerativeClustering_Damin_2.ipynb",
      "provenance": [],
      "collapsed_sections": []
    },
    "kernelspec": {
      "name": "python3",
      "display_name": "Python 3"
    }
  },
  "cells": [
    {
      "cell_type": "code",
      "metadata": {
        "id": "A3FMaxWGS245",
        "colab_type": "code",
        "colab": {}
      },
      "source": [
        "# Tugas damin 2 - 1301170142\n",
        "\n",
        "import numpy as np\n",
        "import pandas as pd\n",
        "import matplotlib.pyplot as plt\n",
        "\n",
        "import scipy.cluster.hierarchy as sch\n",
        "from sklearn.cluster import AgglomerativeClustering"
      ],
      "execution_count": 0,
      "outputs": []
    },
    {
      "cell_type": "code",
      "metadata": {
        "id": "LFPaYZhXTqYY",
        "colab_type": "code",
        "colab": {}
      },
      "source": [
        "# Data yang sama dengan tugas sebelumnya\n",
        "points = pd.DataFrame({\n",
        "    'x': [5, 3, 8, 5, 7, 5, 7, 21, 23, 26, 22, 20, 24, 21, 27, 28, 23, 27, 25, 27, 23, 26, 24, 26, 25, 14, 17, 15, 13, 18, 14, 12, 18, 15, 15, 16],\n",
        "    'y': [8, 4, 6, 4, 2, 3, 5, 25, 25, 24, 24, 23, 26, 28, 12, 11, 14, 10, 12, 14, 16, 14, 18, 18, 16, 10, 14, 17, 11, 16, 17, 14, 13, 14, 16, 13]\n",
        "})"
      ],
      "execution_count": 0,
      "outputs": []
    },
    {
      "cell_type": "code",
      "metadata": {
        "id": "EqP8eDyRZvrF",
        "colab_type": "code",
        "colab": {
          "base_uri": "https://localhost:8080/",
          "height": 284
        },
        "outputId": "a9a33050-bd71-4385-ef4c-d7d3544a2f07"
      },
      "source": [
        "# plot the dataset\n",
        "plt.scatter(points['x'],points['y'])"
      ],
      "execution_count": 17,
      "outputs": [
        {
          "output_type": "execute_result",
          "data": {
            "text/plain": [
              "<matplotlib.collections.PathCollection at 0x7f9c633bb5c0>"
            ]
          },
          "metadata": {
            "tags": []
          },
          "execution_count": 17
        },
        {
          "output_type": "display_data",
          "data": {
            "image/png": "[encoded data removed]",
            "text/plain": [
              "<Figure size 432x288 with 1 Axes>"
            ]
          },
          "metadata": {
            "tags": []
          }
        }
      ]
    },
    {
      "cell_type": "code",
      "metadata": {
        "id": "Bf_1q4IVVz5Q",
        "colab_type": "code",
        "colab": {
          "base_uri": "https://localhost:8080/",
          "height": 269
        },
        "outputId": "a0eb3c6b-908d-4878-ca8c-d6ac9a334fe4"
      },
      "source": [
        "dendrogram = sch.dendrogram(sch.linkage(points,method='ward'))"
      ],
      "execution_count": 18,
      "outputs": [
        {
          "output_type": "display_data",
          "data": {
            "image/png": "[encoded data removed]",
            "text/plain": [
              "<Figure size 432x288 with 1 Axes>"
            ]
          },
          "metadata": {
            "tags": []
          }
        }
      ]
    },
    {
      "cell_type": "code",
      "metadata": {
        "id": "CkOdgY6JWaAr",
        "colab_type": "code",
        "colab": {
          "base_uri": "https://localhost:8080/",
          "height": 284
        },
        "outputId": "418da8ed-fc74-4b0f-edf8-62c4b1c24b54"
      },
      "source": [
        "#Perform the actual Clustering\n",
        "hc = AgglomerativeClustering(n_clusters = 4, affinity='euclidean', linkage='ward')\n",
        "\n",
        "y_hc=hc.fit_predict(points)\n",
        "plt.scatter(df['x'],df['y'], c=y_hc, cmap='rainbow')"
      ],
      "execution_count": 14,
      "outputs": [
        {
          "output_type": "execute_result",
          "data": {
            "text/plain": [
              "<matplotlib.collections.PathCollection at 0x7f9c635343c8>"
            ]
          },
          "metadata": {
            "tags": []
          },
          "execution_count": 14
        },
        {
          "output_type": "display_data",
          "data": {
            "image/png": "[encoded data removed]",
            "text/plain": [
              "<Figure size 432x288 with 1 Axes>"
            ]
          },
          "metadata": {
            "tags": []
          }
        }
      ]
    }
  ]
}